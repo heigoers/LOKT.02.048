{
 "cells": [
  {
   "cell_type": "code",
   "execution_count": 4,
   "metadata": {},
   "outputs": [
    {
     "ename": "AttributeError",
     "evalue": "'module' object has no attribute 'mpi'",
     "output_type": "error",
     "traceback": [
      "\u001b[0;31m---------------------------------------------------------------------------\u001b[0m",
      "\u001b[0;31mAttributeError\u001b[0m                            Traceback (most recent call last)",
      "\u001b[0;32m<ipython-input-4-c479518d28fc>\u001b[0m in \u001b[0;36m<module>\u001b[0;34m()\u001b[0m\n\u001b[1;32m      3\u001b[0m \u001b[0;32mfrom\u001b[0m \u001b[0mase\u001b[0m\u001b[0;34m.\u001b[0m\u001b[0mlattice\u001b[0m\u001b[0;34m.\u001b[0m\u001b[0msurface\u001b[0m \u001b[0;32mimport\u001b[0m \u001b[0mhcp0001\u001b[0m\u001b[0;34m\u001b[0m\u001b[0m\n\u001b[1;32m      4\u001b[0m \u001b[0;32mfrom\u001b[0m \u001b[0mase\u001b[0m\u001b[0;34m.\u001b[0m\u001b[0mvisualize\u001b[0m \u001b[0;32mimport\u001b[0m \u001b[0mview\u001b[0m\u001b[0;34m\u001b[0m\u001b[0m\n\u001b[0;32m----> 5\u001b[0;31m \u001b[0;32mfrom\u001b[0m \u001b[0mgpaw\u001b[0m \u001b[0;32mimport\u001b[0m \u001b[0mGPAW\u001b[0m\u001b[0;34m\u001b[0m\u001b[0m\n\u001b[0m\u001b[1;32m      6\u001b[0m \u001b[0;32mfrom\u001b[0m \u001b[0mmath\u001b[0m \u001b[0;32mimport\u001b[0m \u001b[0msqrt\u001b[0m\u001b[0;34m\u001b[0m\u001b[0m\n\u001b[1;32m      7\u001b[0m \u001b[0;32mimport\u001b[0m \u001b[0mmatplotlib\u001b[0m\u001b[0;34m.\u001b[0m\u001b[0mpyplot\u001b[0m \u001b[0;32mas\u001b[0m \u001b[0mplt\u001b[0m\u001b[0;34m\u001b[0m\u001b[0m\n",
      "\u001b[0;32m/usr/lib/python2.7/dist-packages/gpaw/__init__.py\u001b[0m in \u001b[0;36m<module>\u001b[0;34m()\u001b[0m\n\u001b[1;32m    225\u001b[0m \u001b[0;34m\u001b[0m\u001b[0m\n\u001b[1;32m    226\u001b[0m \u001b[0;34m\u001b[0m\u001b[0m\n\u001b[0;32m--> 227\u001b[0;31m \u001b[0;32mfrom\u001b[0m \u001b[0mgpaw\u001b[0m\u001b[0;34m.\u001b[0m\u001b[0maseinterface\u001b[0m \u001b[0;32mimport\u001b[0m \u001b[0mGPAW\u001b[0m\u001b[0;34m\u001b[0m\u001b[0m\n\u001b[0m\u001b[1;32m    228\u001b[0m \u001b[0;32mfrom\u001b[0m \u001b[0mgpaw\u001b[0m\u001b[0;34m.\u001b[0m\u001b[0mmixer\u001b[0m \u001b[0;32mimport\u001b[0m \u001b[0mMixer\u001b[0m\u001b[0;34m,\u001b[0m \u001b[0mMixerSum\u001b[0m\u001b[0;34m,\u001b[0m \u001b[0mMixerDif\u001b[0m\u001b[0;34m,\u001b[0m \u001b[0mMixerSum2\u001b[0m\u001b[0;34m\u001b[0m\u001b[0m\n\u001b[1;32m    229\u001b[0m \u001b[0;32mfrom\u001b[0m \u001b[0mgpaw\u001b[0m\u001b[0;34m.\u001b[0m\u001b[0meigensolvers\u001b[0m \u001b[0;32mimport\u001b[0m \u001b[0mDavidson\u001b[0m\u001b[0;34m,\u001b[0m \u001b[0mRMM_DIIS\u001b[0m\u001b[0;34m,\u001b[0m \u001b[0mCG\u001b[0m\u001b[0;34m,\u001b[0m \u001b[0mDirectLCAO\u001b[0m\u001b[0;34m\u001b[0m\u001b[0m\n",
      "\u001b[0;32m/usr/lib/python2.7/dist-packages/gpaw/aseinterface.py\u001b[0m in \u001b[0;36m<module>\u001b[0;34m()\u001b[0m\n\u001b[1;32m      9\u001b[0m \u001b[0;34m\u001b[0m\u001b[0m\n\u001b[1;32m     10\u001b[0m \u001b[0;32mfrom\u001b[0m \u001b[0mgpaw\u001b[0m\u001b[0;34m.\u001b[0m\u001b[0mxc\u001b[0m \u001b[0;32mimport\u001b[0m \u001b[0mXC\u001b[0m\u001b[0;34m\u001b[0m\u001b[0m\n\u001b[0;32m---> 11\u001b[0;31m \u001b[0;32mfrom\u001b[0m \u001b[0mgpaw\u001b[0m\u001b[0;34m.\u001b[0m\u001b[0mpaw\u001b[0m \u001b[0;32mimport\u001b[0m \u001b[0mPAW\u001b[0m\u001b[0;34m\u001b[0m\u001b[0m\n\u001b[0m\u001b[1;32m     12\u001b[0m \u001b[0;32mfrom\u001b[0m \u001b[0mgpaw\u001b[0m\u001b[0;34m.\u001b[0m\u001b[0mstress\u001b[0m \u001b[0;32mimport\u001b[0m \u001b[0mstress\u001b[0m\u001b[0;34m\u001b[0m\u001b[0m\n\u001b[1;32m     13\u001b[0m \u001b[0;32mfrom\u001b[0m \u001b[0mgpaw\u001b[0m\u001b[0;34m.\u001b[0m\u001b[0moccupations\u001b[0m \u001b[0;32mimport\u001b[0m \u001b[0mMethfesselPaxton\u001b[0m\u001b[0;34m\u001b[0m\u001b[0m\n",
      "\u001b[0;32m/usr/lib/python2.7/dist-packages/gpaw/paw.py\u001b[0m in \u001b[0;36m<module>\u001b[0;34m()\u001b[0m\n\u001b[1;32m     17\u001b[0m \u001b[0;34m\u001b[0m\u001b[0m\n\u001b[1;32m     18\u001b[0m \u001b[0;32mimport\u001b[0m \u001b[0mgpaw\u001b[0m\u001b[0;34m.\u001b[0m\u001b[0mio\u001b[0m\u001b[0;34m\u001b[0m\u001b[0m\n\u001b[0;32m---> 19\u001b[0;31m \u001b[0;32mimport\u001b[0m \u001b[0mgpaw\u001b[0m\u001b[0;34m.\u001b[0m\u001b[0mmpi\u001b[0m \u001b[0;32mas\u001b[0m \u001b[0mmpi\u001b[0m\u001b[0;34m\u001b[0m\u001b[0m\n\u001b[0m\u001b[1;32m     20\u001b[0m \u001b[0;32mfrom\u001b[0m \u001b[0mgpaw\u001b[0m\u001b[0;34m.\u001b[0m\u001b[0mxc\u001b[0m \u001b[0;32mimport\u001b[0m \u001b[0mXC\u001b[0m\u001b[0;34m\u001b[0m\u001b[0m\n\u001b[1;32m     21\u001b[0m \u001b[0;32mfrom\u001b[0m \u001b[0mgpaw\u001b[0m\u001b[0;34m.\u001b[0m\u001b[0mxc\u001b[0m\u001b[0;34m.\u001b[0m\u001b[0msic\u001b[0m \u001b[0;32mimport\u001b[0m \u001b[0mSIC\u001b[0m\u001b[0;34m\u001b[0m\u001b[0m\n",
      "\u001b[0;31mAttributeError\u001b[0m: 'module' object has no attribute 'mpi'"
     ]
    }
   ],
   "source": [
    "from ase.dft.stm import STM\n",
    "from ase.io import write\n",
    "from ase.lattice.surface import hcp0001\n",
    "from ase.visualize import view\n",
    "from gpaw import GPAW\n",
    "from math import sqrt\n",
    "import matplotlib.pyplot as plt\n",
    "import numpy as np\n",
    "from ase import Atoms, Atom"
   ]
  },
  {
   "cell_type": "code",
   "execution_count": 5,
   "metadata": {},
   "outputs": [
    {
     "ename": "NameError",
     "evalue": "name 'Atoms' is not defined",
     "output_type": "error",
     "traceback": [
      "\u001b[0;31m---------------------------------------------------------------------------\u001b[0m",
      "\u001b[0;31mNameError\u001b[0m                                 Traceback (most recent call last)",
      "\u001b[0;32m<ipython-input-5-50ce87a3558f>\u001b[0m in \u001b[0;36m<module>\u001b[0;34m()\u001b[0m\n\u001b[1;32m      3\u001b[0m \u001b[0msqrt\u001b[0m \u001b[0;34m=\u001b[0m \u001b[0;36m1.732050808\u001b[0m\u001b[0;34m\u001b[0m\u001b[0m\n\u001b[1;32m      4\u001b[0m \u001b[0;34m\u001b[0m\u001b[0m\n\u001b[0;32m----> 5\u001b[0;31m layer = Atoms([Atom('Bi', (0.0000, 0.0000,       -dl)),\n\u001b[0m\u001b[1;32m      6\u001b[0m                Atom('Bi', (da/2,   sqrt*da/6,    0.0))],\n\u001b[1;32m      7\u001b[0m                cell=((da,0,0), (da/2,sqrt*da/2,0), (0,0,1)),pbc=[True,True,False])\n",
      "\u001b[0;31mNameError\u001b[0m: name 'Atoms' is not defined"
     ]
    }
   ],
   "source": [
    "da = 4.48\n",
    "dl = 1.51\n",
    "sqrt = 1.732050808\n",
    "\n",
    "layer = Atoms([Atom('Bi', (0.0000, 0.0000,       -dl)),\n",
    "               Atom('Bi', (da/2,   sqrt*da/6,    0.0))],\n",
    "               cell=((da,0,0), (da/2,sqrt*da/2,0), (0,0,1)),pbc=[True,True,False])\n",
    "layer.center(axis=2, vacuum=4.0)\n",
    "layer *= (1,1,1)\n",
    "layer.pbc = (True, True, False)\n",
    "view(layer)"
   ]
  },
  {
   "cell_type": "code",
   "execution_count": 6,
   "metadata": {},
   "outputs": [
    {
     "ename": "NameError",
     "evalue": "name 'GPAW' is not defined",
     "output_type": "error",
     "traceback": [
      "\u001b[0;31m---------------------------------------------------------------------------\u001b[0m",
      "\u001b[0;31mNameError\u001b[0m                                 Traceback (most recent call last)",
      "\u001b[0;32m<ipython-input-6-ab70393a5fc3>\u001b[0m in \u001b[0;36m<module>\u001b[0;34m()\u001b[0m\n\u001b[0;32m----> 1\u001b[0;31m calc = GPAW(mode='fd',\n\u001b[0m\u001b[1;32m      2\u001b[0m             \u001b[0mkpts\u001b[0m\u001b[0;34m=\u001b[0m\u001b[0;34m(\u001b[0m\u001b[0;36m2\u001b[0m\u001b[0;34m,\u001b[0m \u001b[0;36m2\u001b[0m\u001b[0;34m,\u001b[0m \u001b[0;36m1\u001b[0m\u001b[0;34m)\u001b[0m\u001b[0;34m,\u001b[0m\u001b[0;34m\u001b[0m\u001b[0m\n\u001b[1;32m      3\u001b[0m             txt='Bi111.txt')\n\u001b[1;32m      4\u001b[0m \u001b[0mlayer\u001b[0m\u001b[0;34m.\u001b[0m\u001b[0mset_calculator\u001b[0m\u001b[0;34m(\u001b[0m\u001b[0mcalc\u001b[0m\u001b[0;34m)\u001b[0m\u001b[0;34m\u001b[0m\u001b[0m\n\u001b[1;32m      5\u001b[0m \u001b[0mlayer\u001b[0m\u001b[0;34m.\u001b[0m\u001b[0mget_potential_energy\u001b[0m\u001b[0;34m(\u001b[0m\u001b[0;34m)\u001b[0m\u001b[0;34m\u001b[0m\u001b[0m\n",
      "\u001b[0;31mNameError\u001b[0m: name 'GPAW' is not defined"
     ]
    }
   ],
   "source": [
    "calc = GPAW(mode='fd',\n",
    "            kpts=(2, 2, 1),\n",
    "            txt='Bi111.txt')\n",
    "layer.set_calculator(calc)\n",
    "layer.get_potential_energy()\n",
    "calc.write('Bi111.gpw', 'all')\n",
    "\n",
    "calc = GPAW('Bi111.gpw')\n",
    "layer = calc.get_atoms()\n",
    "stm = STM(layer)\n",
    "z = 8.0\n",
    "bias = 2.0\n",
    "c = stm.get_averaged_current(bias, z)\n",
    "x,y,h = stm.scan(bias, c, repeat=(4, 3))\n",
    "\n",
    "print u'Min: %.2f Ang, Max: %.2f Ang' % (h.min(), h.max())"
   ]
  },
  {
   "cell_type": "code",
   "execution_count": 7,
   "metadata": {},
   "outputs": [
    {
     "ename": "NameError",
     "evalue": "name 'plt' is not defined",
     "output_type": "error",
     "traceback": [
      "\u001b[0;31m---------------------------------------------------------------------------\u001b[0m",
      "\u001b[0;31mNameError\u001b[0m                                 Traceback (most recent call last)",
      "\u001b[0;32m<ipython-input-7-148f404c63fd>\u001b[0m in \u001b[0;36m<module>\u001b[0;34m()\u001b[0m\n\u001b[0;32m----> 1\u001b[0;31m \u001b[0mplt\u001b[0m\u001b[0;34m.\u001b[0m\u001b[0mcontourf\u001b[0m\u001b[0;34m(\u001b[0m\u001b[0mx\u001b[0m\u001b[0;34m,\u001b[0m \u001b[0my\u001b[0m\u001b[0;34m,\u001b[0m \u001b[0mh\u001b[0m\u001b[0;34m,\u001b[0m \u001b[0;36m40\u001b[0m\u001b[0;34m)\u001b[0m\u001b[0;34m\u001b[0m\u001b[0m\n\u001b[0m\u001b[1;32m      2\u001b[0m \u001b[0mplt\u001b[0m\u001b[0;34m.\u001b[0m\u001b[0mhot\u001b[0m\u001b[0;34m(\u001b[0m\u001b[0;34m)\u001b[0m\u001b[0;34m\u001b[0m\u001b[0m\n\u001b[1;32m      3\u001b[0m \u001b[0mplt\u001b[0m\u001b[0;34m.\u001b[0m\u001b[0mcolorbar\u001b[0m\u001b[0;34m(\u001b[0m\u001b[0;34m)\u001b[0m\u001b[0;34m\u001b[0m\u001b[0m\n\u001b[1;32m      4\u001b[0m \u001b[0mplt\u001b[0m\u001b[0;34m.\u001b[0m\u001b[0mshow\u001b[0m\u001b[0;34m(\u001b[0m\u001b[0;34m)\u001b[0m\u001b[0;34m\u001b[0m\u001b[0m\n\u001b[1;32m      5\u001b[0m \u001b[0;31m#plt.savefig('2d.png')\u001b[0m\u001b[0;34m\u001b[0m\u001b[0;34m\u001b[0m\u001b[0m\n",
      "\u001b[0;31mNameError\u001b[0m: name 'plt' is not defined"
     ]
    }
   ],
   "source": [
    "plt.contourf(x, y, h, 40)\n",
    "plt.hot()\n",
    "plt.colorbar()\n",
    "plt.show()\n",
    "#plt.savefig('2d.png')"
   ]
  },
  {
   "cell_type": "code",
   "execution_count": null,
   "metadata": {},
   "outputs": [],
   "source": []
  },
  {
   "cell_type": "code",
   "execution_count": null,
   "metadata": {},
   "outputs": [],
   "source": []
  },
  {
   "cell_type": "code",
   "execution_count": null,
   "metadata": {},
   "outputs": [],
   "source": []
  },
  {
   "cell_type": "code",
   "execution_count": null,
   "metadata": {},
   "outputs": [],
   "source": []
  }
 ],
 "metadata": {
  "kernelspec": {
   "display_name": "Python 2",
   "language": "python",
   "name": "python2"
  },
  "language_info": {
   "codemirror_mode": {
    "name": "ipython",
    "version": 2
   },
   "file_extension": ".py",
   "mimetype": "text/x-python",
   "name": "python",
   "nbconvert_exporter": "python",
   "pygments_lexer": "ipython2",
   "version": "2.7.12"
  }
 },
 "nbformat": 4,
 "nbformat_minor": 1
}
